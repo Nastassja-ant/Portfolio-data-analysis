{
 "cells": [
  {
   "cell_type": "code",
   "execution_count": 1,
   "id": "47d4433f",
   "metadata": {},
   "outputs": [],
   "source": [
    "import pandas as pd\n",
    "import numpy as np\n",
    "from tqdm.auto import tqdm\n",
    "from scipy.stats import norm\n",
    "from scipy import stats\n",
    "from datetime import datetime\n",
    "import seaborn as sns\n",
    "from matplotlib import pyplot as plt\n",
    "sns.set()"
   ]
  },
  {
   "cell_type": "markdown",
   "id": "2ff8a471",
   "metadata": {},
   "source": [
    "## Task 1. A/B-testing analysis"
   ]
  },
  {
   "cell_type": "code",
   "execution_count": 2,
   "id": "594ac079",
   "metadata": {},
   "outputs": [],
   "source": [
    "#Read the file with information about group membership. Change column names when reading.\n",
    "df_users = pd.read_csv('/Users/Nast/Documents/Karpov.Courses/Final_project/test1/Проект_2_groups.csv', sep = ';',  header=0, names = ['student_id', 'group'])"
   ]
  },
  {
   "cell_type": "code",
   "execution_count": 3,
   "id": "2a1fd5f3",
   "metadata": {},
   "outputs": [
    {
     "data": {
      "text/html": [
       "<div>\n",
       "<style scoped>\n",
       "    .dataframe tbody tr th:only-of-type {\n",
       "        vertical-align: middle;\n",
       "    }\n",
       "\n",
       "    .dataframe tbody tr th {\n",
       "        vertical-align: top;\n",
       "    }\n",
       "\n",
       "    .dataframe thead th {\n",
       "        text-align: right;\n",
       "    }\n",
       "</style>\n",
       "<table border=\"1\" class=\"dataframe\">\n",
       "  <thead>\n",
       "    <tr style=\"text-align: right;\">\n",
       "      <th></th>\n",
       "      <th>student_id</th>\n",
       "      <th>group</th>\n",
       "    </tr>\n",
       "  </thead>\n",
       "  <tbody>\n",
       "    <tr>\n",
       "      <th>0</th>\n",
       "      <td>1489</td>\n",
       "      <td>B</td>\n",
       "    </tr>\n",
       "    <tr>\n",
       "      <th>1</th>\n",
       "      <td>1627</td>\n",
       "      <td>A</td>\n",
       "    </tr>\n",
       "    <tr>\n",
       "      <th>2</th>\n",
       "      <td>1768</td>\n",
       "      <td>B</td>\n",
       "    </tr>\n",
       "    <tr>\n",
       "      <th>3</th>\n",
       "      <td>1783</td>\n",
       "      <td>B</td>\n",
       "    </tr>\n",
       "    <tr>\n",
       "      <th>4</th>\n",
       "      <td>1794</td>\n",
       "      <td>A</td>\n",
       "    </tr>\n",
       "    <tr>\n",
       "      <th>...</th>\n",
       "      <td>...</td>\n",
       "      <td>...</td>\n",
       "    </tr>\n",
       "    <tr>\n",
       "      <th>74479</th>\n",
       "      <td>5692459</td>\n",
       "      <td>B</td>\n",
       "    </tr>\n",
       "    <tr>\n",
       "      <th>74480</th>\n",
       "      <td>5692572</td>\n",
       "      <td>B</td>\n",
       "    </tr>\n",
       "    <tr>\n",
       "      <th>74481</th>\n",
       "      <td>5692865</td>\n",
       "      <td>B</td>\n",
       "    </tr>\n",
       "    <tr>\n",
       "      <th>74482</th>\n",
       "      <td>5693667</td>\n",
       "      <td>B</td>\n",
       "    </tr>\n",
       "    <tr>\n",
       "      <th>74483</th>\n",
       "      <td>5694419</td>\n",
       "      <td>B</td>\n",
       "    </tr>\n",
       "  </tbody>\n",
       "</table>\n",
       "<p>74484 rows × 2 columns</p>\n",
       "</div>"
      ],
      "text/plain": [
       "       student_id group\n",
       "0            1489     B\n",
       "1            1627     A\n",
       "2            1768     B\n",
       "3            1783     B\n",
       "4            1794     A\n",
       "...           ...   ...\n",
       "74479     5692459     B\n",
       "74480     5692572     B\n",
       "74481     5692865     B\n",
       "74482     5693667     B\n",
       "74483     5694419     B\n",
       "\n",
       "[74484 rows x 2 columns]"
      ]
     },
     "execution_count": 3,
     "metadata": {},
     "output_type": "execute_result"
    }
   ],
   "source": [
    "df_users"
   ]
  },
  {
   "cell_type": "code",
   "execution_count": 4,
   "id": "f81f5aa5",
   "metadata": {},
   "outputs": [
    {
     "data": {
      "text/plain": [
       "student_id    74484\n",
       "group             2\n",
       "dtype: int64"
      ]
     },
     "execution_count": 4,
     "metadata": {},
     "output_type": "execute_result"
    }
   ],
   "source": [
    "#Review the data\n",
    "df_users.nunique()"
   ]
  },
  {
   "cell_type": "code",
   "execution_count": 5,
   "id": "7de8728a",
   "metadata": {},
   "outputs": [
    {
     "data": {
      "text/plain": [
       "B    59813\n",
       "A    14671\n",
       "Name: group, dtype: int64"
      ]
     },
     "execution_count": 5,
     "metadata": {},
     "output_type": "execute_result"
    }
   ],
   "source": [
    "df_users.group.value_counts()"
   ]
  },
  {
   "cell_type": "code",
   "execution_count": 6,
   "id": "42a03e81",
   "metadata": {},
   "outputs": [
    {
     "data": {
      "text/plain": [
       "student_id     int64\n",
       "group         object\n",
       "dtype: object"
      ]
     },
     "execution_count": 6,
     "metadata": {},
     "output_type": "execute_result"
    }
   ],
   "source": [
    "df_users.dtypes"
   ]
  },
  {
   "cell_type": "code",
   "execution_count": 7,
   "id": "5e78beea",
   "metadata": {},
   "outputs": [],
   "source": [
    "#Read the file with user data updates\n",
    "df_users_add = pd.read_csv('/Users/Nast/Documents/Karpov.Courses/Final_project/test1/Проект_2_group_add.csv', sep = ',', header=0, names = ['student_id', 'group'])"
   ]
  },
  {
   "cell_type": "code",
   "execution_count": 8,
   "id": "6c91e68f",
   "metadata": {},
   "outputs": [
    {
     "data": {
      "text/html": [
       "<div>\n",
       "<style scoped>\n",
       "    .dataframe tbody tr th:only-of-type {\n",
       "        vertical-align: middle;\n",
       "    }\n",
       "\n",
       "    .dataframe tbody tr th {\n",
       "        vertical-align: top;\n",
       "    }\n",
       "\n",
       "    .dataframe thead th {\n",
       "        text-align: right;\n",
       "    }\n",
       "</style>\n",
       "<table border=\"1\" class=\"dataframe\">\n",
       "  <thead>\n",
       "    <tr style=\"text-align: right;\">\n",
       "      <th></th>\n",
       "      <th>student_id</th>\n",
       "      <th>group</th>\n",
       "    </tr>\n",
       "  </thead>\n",
       "  <tbody>\n",
       "    <tr>\n",
       "      <th>0</th>\n",
       "      <td>5694584</td>\n",
       "      <td>B</td>\n",
       "    </tr>\n",
       "    <tr>\n",
       "      <th>1</th>\n",
       "      <td>5694830</td>\n",
       "      <td>B</td>\n",
       "    </tr>\n",
       "    <tr>\n",
       "      <th>2</th>\n",
       "      <td>5695057</td>\n",
       "      <td>B</td>\n",
       "    </tr>\n",
       "    <tr>\n",
       "      <th>3</th>\n",
       "      <td>5698872</td>\n",
       "      <td>B</td>\n",
       "    </tr>\n",
       "    <tr>\n",
       "      <th>4</th>\n",
       "      <td>5699067</td>\n",
       "      <td>B</td>\n",
       "    </tr>\n",
       "    <tr>\n",
       "      <th>...</th>\n",
       "      <td>...</td>\n",
       "      <td>...</td>\n",
       "    </tr>\n",
       "    <tr>\n",
       "      <th>87</th>\n",
       "      <td>200247820</td>\n",
       "      <td>B</td>\n",
       "    </tr>\n",
       "    <tr>\n",
       "      <th>88</th>\n",
       "      <td>201032527</td>\n",
       "      <td>B</td>\n",
       "    </tr>\n",
       "    <tr>\n",
       "      <th>89</th>\n",
       "      <td>201067612</td>\n",
       "      <td>B</td>\n",
       "    </tr>\n",
       "    <tr>\n",
       "      <th>90</th>\n",
       "      <td>201067653</td>\n",
       "      <td>B</td>\n",
       "    </tr>\n",
       "    <tr>\n",
       "      <th>91</th>\n",
       "      <td>201067659</td>\n",
       "      <td>B</td>\n",
       "    </tr>\n",
       "  </tbody>\n",
       "</table>\n",
       "<p>92 rows × 2 columns</p>\n",
       "</div>"
      ],
      "text/plain": [
       "    student_id group\n",
       "0      5694584     B\n",
       "1      5694830     B\n",
       "2      5695057     B\n",
       "3      5698872     B\n",
       "4      5699067     B\n",
       "..         ...   ...\n",
       "87   200247820     B\n",
       "88   201032527     B\n",
       "89   201067612     B\n",
       "90   201067653     B\n",
       "91   201067659     B\n",
       "\n",
       "[92 rows x 2 columns]"
      ]
     },
     "execution_count": 8,
     "metadata": {},
     "output_type": "execute_result"
    }
   ],
   "source": [
    "df_users_add"
   ]
  },
  {
   "cell_type": "code",
   "execution_count": 9,
   "id": "f07ae323",
   "metadata": {},
   "outputs": [
    {
     "data": {
      "text/plain": [
       "student_id    92\n",
       "group          2\n",
       "dtype: int64"
      ]
     },
     "execution_count": 9,
     "metadata": {},
     "output_type": "execute_result"
    }
   ],
   "source": [
    "#Review the data\n",
    "df_users_add.nunique()"
   ]
  },
  {
   "cell_type": "code",
   "execution_count": 11,
   "id": "5cf43ced",
   "metadata": {},
   "outputs": [
    {
     "data": {
      "text/plain": [
       "B    70\n",
       "A    22\n",
       "Name: group, dtype: int64"
      ]
     },
     "execution_count": 11,
     "metadata": {},
     "output_type": "execute_result"
    }
   ],
   "source": [
    "df_users_add.group.value_counts()"
   ]
  },
  {
   "cell_type": "code",
   "execution_count": 12,
   "id": "1eaa9baa",
   "metadata": {},
   "outputs": [
    {
     "data": {
      "text/plain": [
       "student_id     int64\n",
       "group         object\n",
       "dtype: object"
      ]
     },
     "execution_count": 12,
     "metadata": {},
     "output_type": "execute_result"
    }
   ],
   "source": [
    "df_users_add.dtypes"
   ]
  },
  {
   "cell_type": "code",
   "execution_count": 13,
   "id": "dab14915",
   "metadata": {},
   "outputs": [],
   "source": [
    "#Add new data to the list of users\n",
    "df_users_upd = df_users.append(df_users_add)"
   ]
  },
  {
   "cell_type": "code",
   "execution_count": 14,
   "id": "0023ac69",
   "metadata": {},
   "outputs": [
    {
     "data": {
      "text/html": [
       "<div>\n",
       "<style scoped>\n",
       "    .dataframe tbody tr th:only-of-type {\n",
       "        vertical-align: middle;\n",
       "    }\n",
       "\n",
       "    .dataframe tbody tr th {\n",
       "        vertical-align: top;\n",
       "    }\n",
       "\n",
       "    .dataframe thead th {\n",
       "        text-align: right;\n",
       "    }\n",
       "</style>\n",
       "<table border=\"1\" class=\"dataframe\">\n",
       "  <thead>\n",
       "    <tr style=\"text-align: right;\">\n",
       "      <th></th>\n",
       "      <th>student_id</th>\n",
       "      <th>group</th>\n",
       "    </tr>\n",
       "  </thead>\n",
       "  <tbody>\n",
       "    <tr>\n",
       "      <th>0</th>\n",
       "      <td>1489</td>\n",
       "      <td>B</td>\n",
       "    </tr>\n",
       "    <tr>\n",
       "      <th>1</th>\n",
       "      <td>1627</td>\n",
       "      <td>A</td>\n",
       "    </tr>\n",
       "    <tr>\n",
       "      <th>2</th>\n",
       "      <td>1768</td>\n",
       "      <td>B</td>\n",
       "    </tr>\n",
       "    <tr>\n",
       "      <th>3</th>\n",
       "      <td>1783</td>\n",
       "      <td>B</td>\n",
       "    </tr>\n",
       "    <tr>\n",
       "      <th>4</th>\n",
       "      <td>1794</td>\n",
       "      <td>A</td>\n",
       "    </tr>\n",
       "    <tr>\n",
       "      <th>...</th>\n",
       "      <td>...</td>\n",
       "      <td>...</td>\n",
       "    </tr>\n",
       "    <tr>\n",
       "      <th>87</th>\n",
       "      <td>200247820</td>\n",
       "      <td>B</td>\n",
       "    </tr>\n",
       "    <tr>\n",
       "      <th>88</th>\n",
       "      <td>201032527</td>\n",
       "      <td>B</td>\n",
       "    </tr>\n",
       "    <tr>\n",
       "      <th>89</th>\n",
       "      <td>201067612</td>\n",
       "      <td>B</td>\n",
       "    </tr>\n",
       "    <tr>\n",
       "      <th>90</th>\n",
       "      <td>201067653</td>\n",
       "      <td>B</td>\n",
       "    </tr>\n",
       "    <tr>\n",
       "      <th>91</th>\n",
       "      <td>201067659</td>\n",
       "      <td>B</td>\n",
       "    </tr>\n",
       "  </tbody>\n",
       "</table>\n",
       "<p>74576 rows × 2 columns</p>\n",
       "</div>"
      ],
      "text/plain": [
       "    student_id group\n",
       "0         1489     B\n",
       "1         1627     A\n",
       "2         1768     B\n",
       "3         1783     B\n",
       "4         1794     A\n",
       "..         ...   ...\n",
       "87   200247820     B\n",
       "88   201032527     B\n",
       "89   201067612     B\n",
       "90   201067653     B\n",
       "91   201067659     B\n",
       "\n",
       "[74576 rows x 2 columns]"
      ]
     },
     "execution_count": 14,
     "metadata": {},
     "output_type": "execute_result"
    }
   ],
   "source": [
    "df_users_upd"
   ]
  },
  {
   "cell_type": "code",
   "execution_count": 15,
   "id": "ad95d439",
   "metadata": {},
   "outputs": [
    {
     "data": {
      "text/plain": [
       "student_id    74576\n",
       "group             2\n",
       "dtype: int64"
      ]
     },
     "execution_count": 15,
     "metadata": {},
     "output_type": "execute_result"
    }
   ],
   "source": [
    "#Review the data\n",
    "df_users_upd.nunique()"
   ]
  },
  {
   "cell_type": "code",
   "execution_count": 16,
   "id": "ea00b45b",
   "metadata": {},
   "outputs": [],
   "source": [
    "#Read the file with data on website visits \n",
    "df_active = pd.read_csv('/Users/Nast/Documents/Karpov.Courses/Final_project/test1/Проект_2_active_studs.csv')"
   ]
  },
  {
   "cell_type": "code",
   "execution_count": 17,
   "id": "139c5e56",
   "metadata": {},
   "outputs": [
    {
     "data": {
      "text/html": [
       "<div>\n",
       "<style scoped>\n",
       "    .dataframe tbody tr th:only-of-type {\n",
       "        vertical-align: middle;\n",
       "    }\n",
       "\n",
       "    .dataframe tbody tr th {\n",
       "        vertical-align: top;\n",
       "    }\n",
       "\n",
       "    .dataframe thead th {\n",
       "        text-align: right;\n",
       "    }\n",
       "</style>\n",
       "<table border=\"1\" class=\"dataframe\">\n",
       "  <thead>\n",
       "    <tr style=\"text-align: right;\">\n",
       "      <th></th>\n",
       "      <th>student_id</th>\n",
       "    </tr>\n",
       "  </thead>\n",
       "  <tbody>\n",
       "    <tr>\n",
       "      <th>0</th>\n",
       "      <td>581585</td>\n",
       "    </tr>\n",
       "    <tr>\n",
       "      <th>1</th>\n",
       "      <td>5723133</td>\n",
       "    </tr>\n",
       "    <tr>\n",
       "      <th>2</th>\n",
       "      <td>3276743</td>\n",
       "    </tr>\n",
       "    <tr>\n",
       "      <th>3</th>\n",
       "      <td>4238589</td>\n",
       "    </tr>\n",
       "    <tr>\n",
       "      <th>4</th>\n",
       "      <td>4475369</td>\n",
       "    </tr>\n",
       "    <tr>\n",
       "      <th>...</th>\n",
       "      <td>...</td>\n",
       "    </tr>\n",
       "    <tr>\n",
       "      <th>8336</th>\n",
       "      <td>1794344</td>\n",
       "    </tr>\n",
       "    <tr>\n",
       "      <th>8337</th>\n",
       "      <td>296883</td>\n",
       "    </tr>\n",
       "    <tr>\n",
       "      <th>8338</th>\n",
       "      <td>3598448</td>\n",
       "    </tr>\n",
       "    <tr>\n",
       "      <th>8339</th>\n",
       "      <td>3610547</td>\n",
       "    </tr>\n",
       "    <tr>\n",
       "      <th>8340</th>\n",
       "      <td>205705</td>\n",
       "    </tr>\n",
       "  </tbody>\n",
       "</table>\n",
       "<p>8341 rows × 1 columns</p>\n",
       "</div>"
      ],
      "text/plain": [
       "      student_id\n",
       "0         581585\n",
       "1        5723133\n",
       "2        3276743\n",
       "3        4238589\n",
       "4        4475369\n",
       "...          ...\n",
       "8336     1794344\n",
       "8337      296883\n",
       "8338     3598448\n",
       "8339     3610547\n",
       "8340      205705\n",
       "\n",
       "[8341 rows x 1 columns]"
      ]
     },
     "execution_count": 17,
     "metadata": {},
     "output_type": "execute_result"
    }
   ],
   "source": [
    "df_active"
   ]
  },
  {
   "cell_type": "code",
   "execution_count": 18,
   "id": "6191d2bb",
   "metadata": {},
   "outputs": [
    {
     "data": {
      "text/plain": [
       "8341"
      ]
     },
     "execution_count": 18,
     "metadata": {},
     "output_type": "execute_result"
    }
   ],
   "source": [
    "#Review the data\n",
    "df_active.student_id.nunique()"
   ]
  },
  {
   "cell_type": "code",
   "execution_count": 19,
   "id": "0b2f1ea4",
   "metadata": {},
   "outputs": [
    {
     "data": {
      "text/plain": [
       "0"
      ]
     },
     "execution_count": 19,
     "metadata": {},
     "output_type": "execute_result"
    }
   ],
   "source": [
    "df_active.student_id.isna().sum()"
   ]
  },
  {
   "cell_type": "code",
   "execution_count": 20,
   "id": "42624010",
   "metadata": {},
   "outputs": [
    {
     "data": {
      "text/plain": [
       "student_id    int64\n",
       "dtype: object"
      ]
     },
     "execution_count": 20,
     "metadata": {},
     "output_type": "execute_result"
    }
   ],
   "source": [
    "df_active.dtypes"
   ]
  },
  {
   "cell_type": "code",
   "execution_count": 21,
   "id": "a63dd084",
   "metadata": {},
   "outputs": [],
   "source": [
    "#Read the file with info on purchases\n",
    "df_checks =  pd.read_csv('/Users/Nast/Documents/Karpov.Courses/Final_project/test1/Проект_2_checks.csv', sep = ';')"
   ]
  },
  {
   "cell_type": "code",
   "execution_count": 22,
   "id": "060e5e13",
   "metadata": {},
   "outputs": [
    {
     "data": {
      "text/html": [
       "<div>\n",
       "<style scoped>\n",
       "    .dataframe tbody tr th:only-of-type {\n",
       "        vertical-align: middle;\n",
       "    }\n",
       "\n",
       "    .dataframe tbody tr th {\n",
       "        vertical-align: top;\n",
       "    }\n",
       "\n",
       "    .dataframe thead th {\n",
       "        text-align: right;\n",
       "    }\n",
       "</style>\n",
       "<table border=\"1\" class=\"dataframe\">\n",
       "  <thead>\n",
       "    <tr style=\"text-align: right;\">\n",
       "      <th></th>\n",
       "      <th>student_id</th>\n",
       "      <th>rev</th>\n",
       "    </tr>\n",
       "  </thead>\n",
       "  <tbody>\n",
       "    <tr>\n",
       "      <th>0</th>\n",
       "      <td>1627</td>\n",
       "      <td>990.0</td>\n",
       "    </tr>\n",
       "    <tr>\n",
       "      <th>1</th>\n",
       "      <td>3185</td>\n",
       "      <td>690.0</td>\n",
       "    </tr>\n",
       "    <tr>\n",
       "      <th>2</th>\n",
       "      <td>25973</td>\n",
       "      <td>690.0</td>\n",
       "    </tr>\n",
       "    <tr>\n",
       "      <th>3</th>\n",
       "      <td>26280</td>\n",
       "      <td>690.0</td>\n",
       "    </tr>\n",
       "    <tr>\n",
       "      <th>4</th>\n",
       "      <td>100300</td>\n",
       "      <td>990.0</td>\n",
       "    </tr>\n",
       "    <tr>\n",
       "      <th>...</th>\n",
       "      <td>...</td>\n",
       "      <td>...</td>\n",
       "    </tr>\n",
       "    <tr>\n",
       "      <th>536</th>\n",
       "      <td>5645737</td>\n",
       "      <td>1900.0</td>\n",
       "    </tr>\n",
       "    <tr>\n",
       "      <th>537</th>\n",
       "      <td>5651566</td>\n",
       "      <td>1900.0</td>\n",
       "    </tr>\n",
       "    <tr>\n",
       "      <th>538</th>\n",
       "      <td>5662322</td>\n",
       "      <td>1900.0</td>\n",
       "    </tr>\n",
       "    <tr>\n",
       "      <th>539</th>\n",
       "      <td>5681918</td>\n",
       "      <td>1900.0</td>\n",
       "    </tr>\n",
       "    <tr>\n",
       "      <th>540</th>\n",
       "      <td>5740903</td>\n",
       "      <td>1900.0</td>\n",
       "    </tr>\n",
       "  </tbody>\n",
       "</table>\n",
       "<p>541 rows × 2 columns</p>\n",
       "</div>"
      ],
      "text/plain": [
       "     student_id     rev\n",
       "0          1627   990.0\n",
       "1          3185   690.0\n",
       "2         25973   690.0\n",
       "3         26280   690.0\n",
       "4        100300   990.0\n",
       "..          ...     ...\n",
       "536     5645737  1900.0\n",
       "537     5651566  1900.0\n",
       "538     5662322  1900.0\n",
       "539     5681918  1900.0\n",
       "540     5740903  1900.0\n",
       "\n",
       "[541 rows x 2 columns]"
      ]
     },
     "execution_count": 22,
     "metadata": {},
     "output_type": "execute_result"
    }
   ],
   "source": [
    "df_checks"
   ]
  },
  {
   "cell_type": "code",
   "execution_count": 23,
   "id": "7e95ebed",
   "metadata": {},
   "outputs": [
    {
     "data": {
      "text/plain": [
       "student_id      int64\n",
       "rev           float64\n",
       "dtype: object"
      ]
     },
     "execution_count": 23,
     "metadata": {},
     "output_type": "execute_result"
    }
   ],
   "source": [
    "#Review the data\n",
    "df_checks.dtypes"
   ]
  },
  {
   "cell_type": "code",
   "execution_count": 24,
   "id": "e8ef36ee",
   "metadata": {},
   "outputs": [
    {
     "data": {
      "text/plain": [
       "student_id    0\n",
       "rev           0\n",
       "dtype: int64"
      ]
     },
     "execution_count": 24,
     "metadata": {},
     "output_type": "execute_result"
    }
   ],
   "source": [
    "df_checks.isna().sum()"
   ]
  },
  {
   "cell_type": "code",
   "execution_count": 25,
   "id": "a7668602",
   "metadata": {},
   "outputs": [
    {
     "data": {
      "text/plain": [
       "541"
      ]
     },
     "execution_count": 25,
     "metadata": {},
     "output_type": "execute_result"
    }
   ],
   "source": [
    "df_checks.student_id.nunique()"
   ]
  },
  {
   "cell_type": "code",
   "execution_count": 26,
   "id": "032a7007",
   "metadata": {},
   "outputs": [],
   "source": [
    "#Merge the two dfs so that only users, who logged in to the platform, remain. \n",
    "#If a user has made a purshase but has not logged in to the platform, we cannot evaluate the impact of the new mechanics.\n",
    "df_act_checks = df_active.merge(df_checks, how = 'left', on = 'student_id')"
   ]
  },
  {
   "cell_type": "code",
   "execution_count": 27,
   "id": "fb568493",
   "metadata": {},
   "outputs": [
    {
     "data": {
      "text/html": [
       "<div>\n",
       "<style scoped>\n",
       "    .dataframe tbody tr th:only-of-type {\n",
       "        vertical-align: middle;\n",
       "    }\n",
       "\n",
       "    .dataframe tbody tr th {\n",
       "        vertical-align: top;\n",
       "    }\n",
       "\n",
       "    .dataframe thead th {\n",
       "        text-align: right;\n",
       "    }\n",
       "</style>\n",
       "<table border=\"1\" class=\"dataframe\">\n",
       "  <thead>\n",
       "    <tr style=\"text-align: right;\">\n",
       "      <th></th>\n",
       "      <th>student_id</th>\n",
       "      <th>rev</th>\n",
       "    </tr>\n",
       "  </thead>\n",
       "  <tbody>\n",
       "    <tr>\n",
       "      <th>0</th>\n",
       "      <td>581585</td>\n",
       "      <td>NaN</td>\n",
       "    </tr>\n",
       "    <tr>\n",
       "      <th>1</th>\n",
       "      <td>5723133</td>\n",
       "      <td>NaN</td>\n",
       "    </tr>\n",
       "    <tr>\n",
       "      <th>2</th>\n",
       "      <td>3276743</td>\n",
       "      <td>NaN</td>\n",
       "    </tr>\n",
       "    <tr>\n",
       "      <th>3</th>\n",
       "      <td>4238589</td>\n",
       "      <td>NaN</td>\n",
       "    </tr>\n",
       "    <tr>\n",
       "      <th>4</th>\n",
       "      <td>4475369</td>\n",
       "      <td>NaN</td>\n",
       "    </tr>\n",
       "    <tr>\n",
       "      <th>...</th>\n",
       "      <td>...</td>\n",
       "      <td>...</td>\n",
       "    </tr>\n",
       "    <tr>\n",
       "      <th>8336</th>\n",
       "      <td>1794344</td>\n",
       "      <td>NaN</td>\n",
       "    </tr>\n",
       "    <tr>\n",
       "      <th>8337</th>\n",
       "      <td>296883</td>\n",
       "      <td>NaN</td>\n",
       "    </tr>\n",
       "    <tr>\n",
       "      <th>8338</th>\n",
       "      <td>3598448</td>\n",
       "      <td>NaN</td>\n",
       "    </tr>\n",
       "    <tr>\n",
       "      <th>8339</th>\n",
       "      <td>3610547</td>\n",
       "      <td>290.0</td>\n",
       "    </tr>\n",
       "    <tr>\n",
       "      <th>8340</th>\n",
       "      <td>205705</td>\n",
       "      <td>NaN</td>\n",
       "    </tr>\n",
       "  </tbody>\n",
       "</table>\n",
       "<p>8341 rows × 2 columns</p>\n",
       "</div>"
      ],
      "text/plain": [
       "      student_id    rev\n",
       "0         581585    NaN\n",
       "1        5723133    NaN\n",
       "2        3276743    NaN\n",
       "3        4238589    NaN\n",
       "4        4475369    NaN\n",
       "...          ...    ...\n",
       "8336     1794344    NaN\n",
       "8337      296883    NaN\n",
       "8338     3598448    NaN\n",
       "8339     3610547  290.0\n",
       "8340      205705    NaN\n",
       "\n",
       "[8341 rows x 2 columns]"
      ]
     },
     "execution_count": 27,
     "metadata": {},
     "output_type": "execute_result"
    }
   ],
   "source": [
    "df_act_checks"
   ]
  },
  {
   "cell_type": "code",
   "execution_count": 28,
   "id": "eb44397f",
   "metadata": {},
   "outputs": [
    {
     "data": {
      "text/plain": [
       "student_id       0\n",
       "rev           7949\n",
       "dtype: int64"
      ]
     },
     "execution_count": 28,
     "metadata": {},
     "output_type": "execute_result"
    }
   ],
   "source": [
    "#Review the data\n",
    "df_act_checks.isna().sum()"
   ]
  },
  {
   "cell_type": "code",
   "execution_count": 29,
   "id": "fdff1e60",
   "metadata": {},
   "outputs": [
    {
     "data": {
      "text/plain": [
       "8341"
      ]
     },
     "execution_count": 29,
     "metadata": {},
     "output_type": "execute_result"
    }
   ],
   "source": [
    "df_act_checks.student_id.nunique()"
   ]
  },
  {
   "cell_type": "code",
   "execution_count": 30,
   "id": "1e20b846",
   "metadata": {},
   "outputs": [],
   "source": [
    "#Let's add information about which test group the users belong to. Let's leave only those who logged in to the platform.\n",
    "df_test = df_act_checks.merge(df_users_upd, how = 'left', on = 'student_id')"
   ]
  },
  {
   "cell_type": "code",
   "execution_count": 31,
   "id": "5649e2da",
   "metadata": {},
   "outputs": [
    {
     "data": {
      "text/html": [
       "<div>\n",
       "<style scoped>\n",
       "    .dataframe tbody tr th:only-of-type {\n",
       "        vertical-align: middle;\n",
       "    }\n",
       "\n",
       "    .dataframe tbody tr th {\n",
       "        vertical-align: top;\n",
       "    }\n",
       "\n",
       "    .dataframe thead th {\n",
       "        text-align: right;\n",
       "    }\n",
       "</style>\n",
       "<table border=\"1\" class=\"dataframe\">\n",
       "  <thead>\n",
       "    <tr style=\"text-align: right;\">\n",
       "      <th></th>\n",
       "      <th>student_id</th>\n",
       "      <th>rev</th>\n",
       "      <th>group</th>\n",
       "    </tr>\n",
       "  </thead>\n",
       "  <tbody>\n",
       "    <tr>\n",
       "      <th>0</th>\n",
       "      <td>581585</td>\n",
       "      <td>NaN</td>\n",
       "      <td>A</td>\n",
       "    </tr>\n",
       "    <tr>\n",
       "      <th>1</th>\n",
       "      <td>5723133</td>\n",
       "      <td>NaN</td>\n",
       "      <td>A</td>\n",
       "    </tr>\n",
       "    <tr>\n",
       "      <th>2</th>\n",
       "      <td>3276743</td>\n",
       "      <td>NaN</td>\n",
       "      <td>B</td>\n",
       "    </tr>\n",
       "    <tr>\n",
       "      <th>3</th>\n",
       "      <td>4238589</td>\n",
       "      <td>NaN</td>\n",
       "      <td>A</td>\n",
       "    </tr>\n",
       "    <tr>\n",
       "      <th>4</th>\n",
       "      <td>4475369</td>\n",
       "      <td>NaN</td>\n",
       "      <td>B</td>\n",
       "    </tr>\n",
       "    <tr>\n",
       "      <th>...</th>\n",
       "      <td>...</td>\n",
       "      <td>...</td>\n",
       "      <td>...</td>\n",
       "    </tr>\n",
       "    <tr>\n",
       "      <th>8336</th>\n",
       "      <td>1794344</td>\n",
       "      <td>NaN</td>\n",
       "      <td>B</td>\n",
       "    </tr>\n",
       "    <tr>\n",
       "      <th>8337</th>\n",
       "      <td>296883</td>\n",
       "      <td>NaN</td>\n",
       "      <td>B</td>\n",
       "    </tr>\n",
       "    <tr>\n",
       "      <th>8338</th>\n",
       "      <td>3598448</td>\n",
       "      <td>NaN</td>\n",
       "      <td>B</td>\n",
       "    </tr>\n",
       "    <tr>\n",
       "      <th>8339</th>\n",
       "      <td>3610547</td>\n",
       "      <td>290.0</td>\n",
       "      <td>B</td>\n",
       "    </tr>\n",
       "    <tr>\n",
       "      <th>8340</th>\n",
       "      <td>205705</td>\n",
       "      <td>NaN</td>\n",
       "      <td>B</td>\n",
       "    </tr>\n",
       "  </tbody>\n",
       "</table>\n",
       "<p>8341 rows × 3 columns</p>\n",
       "</div>"
      ],
      "text/plain": [
       "      student_id    rev group\n",
       "0         581585    NaN     A\n",
       "1        5723133    NaN     A\n",
       "2        3276743    NaN     B\n",
       "3        4238589    NaN     A\n",
       "4        4475369    NaN     B\n",
       "...          ...    ...   ...\n",
       "8336     1794344    NaN     B\n",
       "8337      296883    NaN     B\n",
       "8338     3598448    NaN     B\n",
       "8339     3610547  290.0     B\n",
       "8340      205705    NaN     B\n",
       "\n",
       "[8341 rows x 3 columns]"
      ]
     },
     "execution_count": 31,
     "metadata": {},
     "output_type": "execute_result"
    }
   ],
   "source": [
    "df_test"
   ]
  },
  {
   "cell_type": "code",
   "execution_count": 32,
   "id": "eb3e8dd9",
   "metadata": {},
   "outputs": [
    {
     "data": {
      "text/plain": [
       "student_id       0\n",
       "rev           7949\n",
       "group            0\n",
       "dtype: int64"
      ]
     },
     "execution_count": 32,
     "metadata": {},
     "output_type": "execute_result"
    }
   ],
   "source": [
    "df_test.isna().sum()"
   ]
  },
  {
   "cell_type": "code",
   "execution_count": 33,
   "id": "d3c7ec10",
   "metadata": {},
   "outputs": [
    {
     "data": {
      "text/plain": [
       "B    6803\n",
       "A    1538\n",
       "Name: group, dtype: int64"
      ]
     },
     "execution_count": 33,
     "metadata": {},
     "output_type": "execute_result"
    }
   ],
   "source": [
    "df_test.group.value_counts()\n",
    "#The groups vary in size, but in our case it is acceptable, as there are enough users in each group"
   ]
  },
  {
   "cell_type": "markdown",
   "id": "62e826a6",
   "metadata": {},
   "source": [
    "Let's assume that the experiment lasted 7 days, the groups are from the same general population, are representative, and any additional factors, that may affect the result, are removed.\n",
    "We have data:\n",
    "\n",
    "-what users visited the website (number of visits is not known)\n",
    "\n",
    "-how much each user paid for the period of the experiment (the number of payments is not known).\n",
    "\n",
    "Hence, the metrics we can look at are:\n",
    "\n",
    "-Average revenue per user\n",
    "\n",
    "-conversion to purchase"
   ]
  },
  {
   "cell_type": "markdown",
   "id": "07da7aae",
   "metadata": {},
   "source": [
    "### Let's look at the average revenue for each group"
   ]
  },
  {
   "cell_type": "code",
   "execution_count": 34,
   "id": "4b9229db",
   "metadata": {},
   "outputs": [
    {
     "data": {
      "text/html": [
       "<div>\n",
       "<style scoped>\n",
       "    .dataframe tbody tr th:only-of-type {\n",
       "        vertical-align: middle;\n",
       "    }\n",
       "\n",
       "    .dataframe tbody tr th {\n",
       "        vertical-align: top;\n",
       "    }\n",
       "\n",
       "    .dataframe thead th {\n",
       "        text-align: right;\n",
       "    }\n",
       "</style>\n",
       "<table border=\"1\" class=\"dataframe\">\n",
       "  <thead>\n",
       "    <tr style=\"text-align: right;\">\n",
       "      <th></th>\n",
       "      <th>group</th>\n",
       "      <th>avg_rev</th>\n",
       "    </tr>\n",
       "  </thead>\n",
       "  <tbody>\n",
       "    <tr>\n",
       "      <th>0</th>\n",
       "      <td>A</td>\n",
       "      <td>933.589744</td>\n",
       "    </tr>\n",
       "    <tr>\n",
       "      <th>1</th>\n",
       "      <td>B</td>\n",
       "      <td>1257.878992</td>\n",
       "    </tr>\n",
       "  </tbody>\n",
       "</table>\n",
       "</div>"
      ],
      "text/plain": [
       "  group      avg_rev\n",
       "0     A   933.589744\n",
       "1     B  1257.878992"
      ]
     },
     "execution_count": 34,
     "metadata": {},
     "output_type": "execute_result"
    }
   ],
   "source": [
    "df_test.groupby('group', as_index = False).agg({'rev': 'mean'}).rename(columns={'rev': 'avg_rev'})"
   ]
  },
  {
   "cell_type": "markdown",
   "id": "da050a6f",
   "metadata": {},
   "source": [
    "We see that the average revenue per user in the test group is significantly higher than in the control group. Let's check the statistical significance of these differences."
   ]
  },
  {
   "cell_type": "code",
   "execution_count": 35,
   "id": "8c7a9a3e",
   "metadata": {},
   "outputs": [
    {
     "data": {
      "text/plain": [
       "count     314.000000\n",
       "mean     1257.878992\n",
       "std       790.864254\n",
       "min       199.000000\n",
       "25%       511.750000\n",
       "50%      1140.000000\n",
       "75%      1900.000000\n",
       "max      4650.000000\n",
       "Name: rev, dtype: float64"
      ]
     },
     "execution_count": 35,
     "metadata": {},
     "output_type": "execute_result"
    }
   ],
   "source": [
    "#Let's look at the stats in the test group\n",
    "df_test.loc[df_test['group'] == 'B'].rev.describe()"
   ]
  },
  {
   "cell_type": "code",
   "execution_count": 36,
   "id": "1d04c2de",
   "metadata": {},
   "outputs": [
    {
     "data": {
      "text/plain": [
       "<AxesSubplot:>"
      ]
     },
     "execution_count": 36,
     "metadata": {},
     "output_type": "execute_result"
    },
    {
     "data": {
      "image/png": "[encoded data removed]",
      "text/plain": [
       "<Figure size 432x288 with 1 Axes>"
      ]
     },
     "metadata": {},
     "output_type": "display_data"
    }
   ],
   "source": [
    "#Let's look at the distribution of the data in the test group\n",
    "df_test.loc[df_test['group'] == 'B'].rev.hist(bins=50)"
   ]
  },
  {
   "cell_type": "code",
   "execution_count": 37,
   "id": "4b55b609",
   "metadata": {},
   "outputs": [
    {
     "data": {
      "text/plain": [
       "count      78.000000\n",
       "mean      933.589744\n",
       "std       919.932711\n",
       "min       199.000000\n",
       "25%       290.000000\n",
       "50%       585.000000\n",
       "75%      1114.750000\n",
       "max      3660.000000\n",
       "Name: rev, dtype: float64"
      ]
     },
     "execution_count": 37,
     "metadata": {},
     "output_type": "execute_result"
    }
   ],
   "source": [
    "#And now the stats in the control group\n",
    "df_test.loc[df_test['group'] == 'A'].rev.describe()"
   ]
  },
  {
   "cell_type": "code",
   "execution_count": 38,
   "id": "7f097b71",
   "metadata": {},
   "outputs": [
    {
     "data": {
      "text/plain": [
       "<AxesSubplot:>"
      ]
     },
     "execution_count": 38,
     "metadata": {},
     "output_type": "execute_result"
    },
    {
     "data": {
      "image/png": "[encoded data removed]",
      "text/plain": [
       "<Figure size 432x288 with 1 Axes>"
      ]
     },
     "metadata": {},
     "output_type": "display_data"
    }
   ],
   "source": [
    "#And the distribution in the control group...\n",
    "df_test.loc[df_test['group'] == 'A'].rev.hist(bins=50)"
   ]
  },
  {
   "cell_type": "markdown",
   "id": "a91eb9b1",
   "metadata": {},
   "source": [
    "Given that in both groups the distribution is far from normal, and in addition, the groups differ greatly in the number of observations, we will use the bootstrap method to test the null hypothesis of equality of the means."
   ]
  },
  {
   "cell_type": "markdown",
   "id": "d9292622",
   "metadata": {},
   "source": [
    "#### Let's declare a function that will allow us to test hypotheses using bootstrap"
   ]
  },
  {
   "cell_type": "code",
   "execution_count": 39,
   "id": "7cc5e518",
   "metadata": {},
   "outputs": [],
   "source": [
    "def get_bootstrap(\n",
    "    data_column_1, #numerical values of the first sample\n",
    "    data_column_2, #numerical values of the second sample\n",
    "    boot_it = 1000, #number of bootstrap subsamples\n",
    "    statistic = np.mean, #statistics of interest (mean)\n",
    "    bootstrap_conf_level = 0.95 #significance level\n",
    "):\n",
    "    boot_data = []\n",
    "    for i in tqdm(range(boot_it)): #pull subsamples\n",
    "        samples_1 = data_column_1.sample(\n",
    "            len(data_column_1), \n",
    "            replace = True #return parameter\n",
    "        ).values\n",
    "        \n",
    "        samples_2 = data_column_2.sample(\n",
    "            len(data_column_1), \n",
    "            replace = True\n",
    "        ).values\n",
    "        \n",
    "        boot_data.append(statistic(samples_1)-statistic(samples_2)) #apply the statistic\n",
    "        \n",
    "    pd_boot_data = pd.DataFrame(boot_data)\n",
    "        \n",
    "    left_quant = (1 - bootstrap_conf_level)/2\n",
    "    right_quant = 1 - (1 - bootstrap_conf_level) / 2\n",
    "    quants = pd_boot_data.quantile([left_quant, right_quant])\n",
    "        \n",
    "    p_1 = norm.cdf(\n",
    "        x = 0, \n",
    "        loc = np.mean(boot_data), \n",
    "        scale = np.std(boot_data)\n",
    "    )\n",
    "    p_2 = norm.cdf(\n",
    "        x = 0, \n",
    "        loc = -np.mean(boot_data), \n",
    "        scale = np.std(boot_data)\n",
    "    )\n",
    "    p_value = min(p_1, p_2) * 2\n",
    "        \n",
    "    return {\"boot_data\": boot_data, \n",
    "            \"quants\": quants, \n",
    "            \"p_value\": p_value}"
   ]
  },
  {
   "cell_type": "code",
   "execution_count": 40,
   "id": "77b10cf8",
   "metadata": {},
   "outputs": [],
   "source": [
    "#For bootstrap, we replace missing values with zeros\n",
    "df_test_values = df_test.copy(deep=True)\n",
    "df_test_values.rev = df_test_values.rev.fillna(0)"
   ]
  },
  {
   "cell_type": "code",
   "execution_count": 41,
   "id": "c5456599",
   "metadata": {},
   "outputs": [],
   "source": [
    "b = df_test_values[df_test_values['group'] == 'B']['rev']\n",
    "a = df_test_values[df_test_values['group'] == 'A']['rev']"
   ]
  },
  {
   "cell_type": "code",
   "execution_count": 42,
   "id": "6b8a3b21",
   "metadata": {},
   "outputs": [
    {
     "data": {
      "application/vnd.jupyter.widget-view+json": {
       "model_id": "587bf0550f984d2d8b82fcf83ae903be",
       "version_major": 2,
       "version_minor": 0
      },
      "text/plain": [
       "  0%|          | 0/1000 [00:00<?, ?it/s]"
      ]
     },
     "metadata": {},
     "output_type": "display_data"
    }
   ],
   "source": [
    "booted_data = get_bootstrap(b, a) #difference of two distributions, confidence interval and p-value"
   ]
  },
  {
   "cell_type": "code",
   "execution_count": 43,
   "id": "8259bc14",
   "metadata": {},
   "outputs": [
    {
     "data": {
      "text/plain": [
       "0.03445713290676521"
      ]
     },
     "execution_count": 43,
     "metadata": {},
     "output_type": "execute_result"
    }
   ],
   "source": [
    "#Getting p-value\n",
    "booted_data[\"p_value\"]"
   ]
  },
  {
   "cell_type": "code",
   "execution_count": 44,
   "id": "1224ec43",
   "metadata": {},
   "outputs": [
    {
     "data": {
      "text/html": [
       "<div>\n",
       "<style scoped>\n",
       "    .dataframe tbody tr th:only-of-type {\n",
       "        vertical-align: middle;\n",
       "    }\n",
       "\n",
       "    .dataframe tbody tr th {\n",
       "        vertical-align: top;\n",
       "    }\n",
       "\n",
       "    .dataframe thead th {\n",
       "        text-align: right;\n",
       "    }\n",
       "</style>\n",
       "<table border=\"1\" class=\"dataframe\">\n",
       "  <thead>\n",
       "    <tr style=\"text-align: right;\">\n",
       "      <th></th>\n",
       "      <th>0</th>\n",
       "    </tr>\n",
       "  </thead>\n",
       "  <tbody>\n",
       "    <tr>\n",
       "      <th>0.025</th>\n",
       "      <td>1.030502</td>\n",
       "    </tr>\n",
       "    <tr>\n",
       "      <th>0.975</th>\n",
       "      <td>20.527161</td>\n",
       "    </tr>\n",
       "  </tbody>\n",
       "</table>\n",
       "</div>"
      ],
      "text/plain": [
       "               0\n",
       "0.025   1.030502\n",
       "0.975  20.527161"
      ]
     },
     "execution_count": 44,
     "metadata": {},
     "output_type": "execute_result"
    }
   ],
   "source": [
    "#Getting confidence interval\n",
    "booted_data[\"quants\"]"
   ]
  },
  {
   "cell_type": "markdown",
   "id": "2f4a0c9c",
   "metadata": {},
   "source": [
    "#### Zero does not fall within CI, and p_value < 0.05, which allows us to reject the null hypothesis of equality of the means. That is, there are significant differences between the test and control groups"
   ]
  },
  {
   "cell_type": "markdown",
   "id": "8d96aee4",
   "metadata": {},
   "source": [
    "### Let's take a look at the conversion to purchase"
   ]
  },
  {
   "cell_type": "code",
   "execution_count": 45,
   "id": "80bb5858",
   "metadata": {},
   "outputs": [],
   "source": [
    "#Create a df\n",
    "cr = df_test.groupby('group', as_index = False) \\\n",
    "            .agg({'rev': 'count', 'student_id': 'count'}) \\\n",
    "            .rename(columns = {'rev': 'payment_count', 'student_id': 'actives_count'})"
   ]
  },
  {
   "cell_type": "code",
   "execution_count": 46,
   "id": "c38b789e",
   "metadata": {},
   "outputs": [],
   "source": [
    "cr['cr'] = cr.payment_count / cr.actives_count * 100"
   ]
  },
  {
   "cell_type": "code",
   "execution_count": 47,
   "id": "c0c28044",
   "metadata": {},
   "outputs": [
    {
     "data": {
      "text/html": [
       "<div>\n",
       "<style scoped>\n",
       "    .dataframe tbody tr th:only-of-type {\n",
       "        vertical-align: middle;\n",
       "    }\n",
       "\n",
       "    .dataframe tbody tr th {\n",
       "        vertical-align: top;\n",
       "    }\n",
       "\n",
       "    .dataframe thead th {\n",
       "        text-align: right;\n",
       "    }\n",
       "</style>\n",
       "<table border=\"1\" class=\"dataframe\">\n",
       "  <thead>\n",
       "    <tr style=\"text-align: right;\">\n",
       "      <th></th>\n",
       "      <th>group</th>\n",
       "      <th>payment_count</th>\n",
       "      <th>actives_count</th>\n",
       "      <th>cr</th>\n",
       "    </tr>\n",
       "  </thead>\n",
       "  <tbody>\n",
       "    <tr>\n",
       "      <th>0</th>\n",
       "      <td>A</td>\n",
       "      <td>78</td>\n",
       "      <td>1538</td>\n",
       "      <td>5.071521</td>\n",
       "    </tr>\n",
       "    <tr>\n",
       "      <th>1</th>\n",
       "      <td>B</td>\n",
       "      <td>314</td>\n",
       "      <td>6803</td>\n",
       "      <td>4.615611</td>\n",
       "    </tr>\n",
       "  </tbody>\n",
       "</table>\n",
       "</div>"
      ],
      "text/plain": [
       "  group  payment_count  actives_count        cr\n",
       "0     A             78           1538  5.071521\n",
       "1     B            314           6803  4.615611"
      ]
     },
     "execution_count": 47,
     "metadata": {},
     "output_type": "execute_result"
    }
   ],
   "source": [
    "cr"
   ]
  },
  {
   "cell_type": "markdown",
   "id": "49af74de",
   "metadata": {},
   "source": [
    "We can see that the conversion rate is higher in the control group than in the test group. Let's check the data using chi-square, since the data are categorical (bought/not bought)"
   ]
  },
  {
   "cell_type": "code",
   "execution_count": 48,
   "id": "38449d79",
   "metadata": {},
   "outputs": [],
   "source": [
    "cr['no_purchase'] = cr.actives_count - cr.payment_count"
   ]
  },
  {
   "cell_type": "code",
   "execution_count": 49,
   "id": "b16a0d94",
   "metadata": {},
   "outputs": [
    {
     "data": {
      "text/html": [
       "<div>\n",
       "<style scoped>\n",
       "    .dataframe tbody tr th:only-of-type {\n",
       "        vertical-align: middle;\n",
       "    }\n",
       "\n",
       "    .dataframe tbody tr th {\n",
       "        vertical-align: top;\n",
       "    }\n",
       "\n",
       "    .dataframe thead th {\n",
       "        text-align: right;\n",
       "    }\n",
       "</style>\n",
       "<table border=\"1\" class=\"dataframe\">\n",
       "  <thead>\n",
       "    <tr style=\"text-align: right;\">\n",
       "      <th></th>\n",
       "      <th>group</th>\n",
       "      <th>payment_count</th>\n",
       "      <th>actives_count</th>\n",
       "      <th>cr</th>\n",
       "      <th>no_purchase</th>\n",
       "    </tr>\n",
       "  </thead>\n",
       "  <tbody>\n",
       "    <tr>\n",
       "      <th>0</th>\n",
       "      <td>A</td>\n",
       "      <td>78</td>\n",
       "      <td>1538</td>\n",
       "      <td>5.071521</td>\n",
       "      <td>1460</td>\n",
       "    </tr>\n",
       "    <tr>\n",
       "      <th>1</th>\n",
       "      <td>B</td>\n",
       "      <td>314</td>\n",
       "      <td>6803</td>\n",
       "      <td>4.615611</td>\n",
       "      <td>6489</td>\n",
       "    </tr>\n",
       "  </tbody>\n",
       "</table>\n",
       "</div>"
      ],
      "text/plain": [
       "  group  payment_count  actives_count        cr  no_purchase\n",
       "0     A             78           1538  5.071521         1460\n",
       "1     B            314           6803  4.615611         6489"
      ]
     },
     "execution_count": 49,
     "metadata": {},
     "output_type": "execute_result"
    }
   ],
   "source": [
    "cr"
   ]
  },
  {
   "cell_type": "code",
   "execution_count": 50,
   "id": "ca6edbb8",
   "metadata": {},
   "outputs": [],
   "source": [
    "#Create a contingency table\n",
    "table = pd.DataFrame()\n",
    "table.insert(0, \"Purchase\", cr.payment_count)\n",
    "table.insert(1, \"No_purchase\", cr.no_purchase)"
   ]
  },
  {
   "cell_type": "code",
   "execution_count": 51,
   "id": "c39fda26",
   "metadata": {},
   "outputs": [
    {
     "data": {
      "text/html": [
       "<div>\n",
       "<style scoped>\n",
       "    .dataframe tbody tr th:only-of-type {\n",
       "        vertical-align: middle;\n",
       "    }\n",
       "\n",
       "    .dataframe tbody tr th {\n",
       "        vertical-align: top;\n",
       "    }\n",
       "\n",
       "    .dataframe thead th {\n",
       "        text-align: right;\n",
       "    }\n",
       "</style>\n",
       "<table border=\"1\" class=\"dataframe\">\n",
       "  <thead>\n",
       "    <tr style=\"text-align: right;\">\n",
       "      <th></th>\n",
       "      <th>Purchase</th>\n",
       "      <th>No_purchase</th>\n",
       "    </tr>\n",
       "  </thead>\n",
       "  <tbody>\n",
       "    <tr>\n",
       "      <th>0</th>\n",
       "      <td>78</td>\n",
       "      <td>1460</td>\n",
       "    </tr>\n",
       "    <tr>\n",
       "      <th>1</th>\n",
       "      <td>314</td>\n",
       "      <td>6489</td>\n",
       "    </tr>\n",
       "  </tbody>\n",
       "</table>\n",
       "</div>"
      ],
      "text/plain": [
       "   Purchase  No_purchase\n",
       "0        78         1460\n",
       "1       314         6489"
      ]
     },
     "execution_count": 51,
     "metadata": {},
     "output_type": "execute_result"
    }
   ],
   "source": [
    "table"
   ]
  },
  {
   "cell_type": "code",
   "execution_count": 52,
   "id": "76aabc2c",
   "metadata": {},
   "outputs": [
    {
     "data": {
      "text/plain": [
       "0.48625240457231045"
      ]
     },
     "execution_count": 52,
     "metadata": {},
     "output_type": "execute_result"
    }
   ],
   "source": [
    "p_value = stats.chi2_contingency(table)[1]\n",
    "p_value"
   ]
  },
  {
   "cell_type": "markdown",
   "id": "2aeabc38",
   "metadata": {},
   "source": [
    "#### Null hypothesis: the fact of purchase does not depend on the test group. Since the obtained p_value > 0.05, we cannot reject the null hypothesis."
   ]
  },
  {
   "cell_type": "markdown",
   "id": "5b579ee4",
   "metadata": {},
   "source": [
    "### Conclusion:\n",
    "\n",
    "#### The test data does not allow us to conclude that the new mechanics have a significant effect on conversion to purchase. However, we can see that the new mechanics has a positive effect on the growth of average revenue per user.\n",
    "\n",
    "#### If the goal of changes in payment mechanics was to increase revenue per user, we can roll out the changes to all users.\n",
    "\n",
    "#### If the goal was to increase conversion to purchase, then the mechanics should be finalized and tested again."
   ]
  },
  {
   "cell_type": "code",
   "execution_count": null,
   "id": "3ef5f2d9",
   "metadata": {},
   "outputs": [],
   "source": []
  },
  {
   "cell_type": "markdown",
   "id": "ae591c69",
   "metadata": {},
   "source": [
    "## Task 2. SQL"
   ]
  },
  {
   "cell_type": "markdown",
   "id": "7d681daf",
   "metadata": {},
   "source": [
    "#### 2.1 Very hard working students."
   ]
  },
  {
   "cell_type": "raw",
   "id": "c3b82e75",
   "metadata": {},
   "source": [
    "SELECT\n",
    "    uniqExact(st_id) AS count_hard_studs\n",
    "FROM (\n",
    "    SELECT\n",
    "        st_id,\n",
    "        sum(correct) AS correct_peas,\n",
    "        toStartOfMonth(timest) AS month\n",
    "    FROM\n",
    "        peas\n",
    "    GROUP BY \n",
    "        st_id, month\n",
    "    HAVING\n",
    "        correct_peas = 20\n",
    "        OR\n",
    "        correct_peas > 20\n",
    "    )\n",
    "WHERE\n",
    "    month = '2020-03-01'"
   ]
  },
  {
   "cell_type": "markdown",
   "id": "11a3e2c3",
   "metadata": {},
   "source": [
    "#### 2.2 Funnel optimisation"
   ]
  },
  {
   "cell_type": "raw",
   "id": "d691544b",
   "metadata": {},
   "source": [
    "SELECT\n",
    "    t1.test_grp AS test_grp,\n",
    "    t1.ARPU AS ARPU,\n",
    "    t1.CR AS CR,\n",
    "    t2.ARPAU AS ARPAU,\n",
    "    t2.CR_active AS CR_active,\n",
    "    t3.CR_active_math AS CR_active_math\n",
    "FROM (\n",
    "    SELECT\n",
    "        test_grp,\n",
    "        sum(money) / uniqExact(st_id) AS ARPU,\n",
    "        COUNT(nullIf(money,0)) / uniqExact(st_id) * 100 AS CR\n",
    "    FROM (\n",
    "        SELECT\n",
    "            l.st_id,\n",
    "            l.test_grp,\n",
    "            l.money,\n",
    "            r.correct_peas\n",
    "        FROM ( \n",
    "            SELECT\n",
    "                a.st_id      AS st_id,\n",
    "                a.test_grp   AS test_grp,\n",
    "                sum(c.money) AS money\n",
    "            FROM  default.studs AS a\n",
    "            LEFT JOIN  default.final_project_check AS c\n",
    "                ON a.st_id = c.st_id\n",
    "            GROUP BY\n",
    "                st_id,\n",
    "                test_grp\n",
    "            ) as l\n",
    "        LEFT JOIN (\n",
    "            SELECT\n",
    "                st_id,\n",
    "                sum(correct) AS correct_peas\n",
    "            FROM peas\n",
    "            GROUP BY st_id\n",
    "            ) AS r\n",
    "        ON l.st_id = r.st_id\n",
    "        )\n",
    "    GROUP BY test_grp\n",
    "    ) AS t1\n",
    "JOIN (\n",
    "    SELECT\n",
    "        test_grp,\n",
    "        sum(money) / COUNT(nullIf(correct_peas,0)) AS ARPAU,\n",
    "        COUNT(nullIf(money,0)) / uniqExact(st_id) * 100 AS CR_active\n",
    "    FROM (\n",
    "        SELECT\n",
    "            l.st_id,\n",
    "            l.test_grp,\n",
    "            l.money,\n",
    "            r.correct_peas\n",
    "        FROM ( \n",
    "            SELECT\n",
    "                a.st_id      AS st_id,\n",
    "                a.test_grp   AS test_grp,\n",
    "                sum(c.money) AS money\n",
    "            FROM  default.studs AS a\n",
    "            LEFT JOIN  default.final_project_check AS c\n",
    "                ON a.st_id = c.st_id\n",
    "            GROUP BY\n",
    "                st_id,\n",
    "                test_grp\n",
    "            ) as l\n",
    "        LEFT JOIN (\n",
    "            SELECT\n",
    "                st_id,\n",
    "                sum(correct) AS correct_peas\n",
    "            FROM peas\n",
    "            GROUP BY st_id\n",
    "            ) AS r\n",
    "        ON l.st_id = r.st_id\n",
    "        )\n",
    "    WHERE correct_peas > 10\n",
    "    GROUP BY test_grp\n",
    "    ) AS t2\n",
    "ON t1.test_grp = t2.test_grp\n",
    "JOIN (\n",
    "    SELECT\n",
    "        test_grp,\n",
    "        COUNT(nullIf(money_math,0)) / uniqExact(st_id) * 100 AS CR_active_math\n",
    "    FROM (\n",
    "        SELECT\n",
    "            l2.st_id,\n",
    "            l2.test_grp,\n",
    "            r2.correct_peas_math,\n",
    "            r2.money AS money_math\n",
    "        FROM  default.studs AS l2\n",
    "        LEFT JOIN (\n",
    "            SELECT\n",
    "                if(empty(l.st_id), r.st_id,l.st_id) AS st_id,\n",
    "                l.correct_peas_math,\n",
    "                r.money\n",
    "            FROM (\n",
    "                SELECT\n",
    "                    st_id,\n",
    "                    sum(correct) AS correct_peas_math\n",
    "                FROM\n",
    "                    peas\n",
    "                WHERE subject = 'Math'\n",
    "                GROUP BY st_id\n",
    "                ) AS l\n",
    "            FULL JOIN (\n",
    "                SELECT\n",
    "                    st_id,\n",
    "                    money\n",
    "                FROM  default.final_project_check \n",
    "                WHERE subject = 'Math'\n",
    "                ) AS r\n",
    "             ON l.st_id = r.st_id\n",
    "             ) AS r2\n",
    "        ON l2.st_id = r2.st_id\n",
    "        )\n",
    "    WHERE correct_peas_math = 2 OR correct_peas_math > 2\n",
    "    GROUP BY test_grp\n",
    "    ) AS t3\n",
    "ON t1.test_grp = t3.test_grp\n"
   ]
  },
  {
   "cell_type": "markdown",
   "id": "0f3d4e47",
   "metadata": {},
   "source": [
    "## Task 3. Python"
   ]
  },
  {
   "cell_type": "markdown",
   "id": "c1c75be7",
   "metadata": {},
   "source": [
    "#### 1. Implement a function that will automatically load information from an additional groups_add.csv file (headers may vary) and recalculate metrics based on the additional parameters."
   ]
  },
  {
   "cell_type": "code",
   "execution_count": null,
   "id": "5e55e450",
   "metadata": {},
   "outputs": [],
   "source": [
    "#Read the file with information about group membership. Change column names when reading.\n",
    "df_users = pd.read_csv('/Users/Nast/Documents/Karpov.Courses/Final_project/test1/Проект_2_groups.csv', sep = ';',  header=0, names = ['student_id', 'group'])"
   ]
  },
  {
   "cell_type": "code",
   "execution_count": null,
   "id": "d2357c0d",
   "metadata": {},
   "outputs": [],
   "source": [
    "#Read the file with data on website visits\n",
    "df_active = pd.read_csv('/Users/Nast/Documents/Karpov.Courses/Final_project/test1/Проект_2_active_studs.csv')"
   ]
  },
  {
   "cell_type": "code",
   "execution_count": null,
   "id": "e17e7ee4",
   "metadata": {},
   "outputs": [],
   "source": [
    "#Read the file with purchases\n",
    "df_checks =  pd.read_csv('/Users/Nast/Documents/Karpov.Courses/Final_project/test1/Проект_2_checks.csv', sep = ';')"
   ]
  },
  {
   "cell_type": "code",
   "execution_count": null,
   "id": "79adc2cd",
   "metadata": {},
   "outputs": [],
   "source": [
    "#Merge the two dfs so that only those users who logged into the platform remain. \n",
    "#If a user has made a payment but hasn't logged into the platform, we can't assess the impact of the new mechanics on them.\n",
    "df_act_checks = df_active.merge(df_checks, how = 'left', on = 'student_id')"
   ]
  },
  {
   "cell_type": "code",
   "execution_count": null,
   "id": "e7459e89",
   "metadata": {},
   "outputs": [],
   "source": [
    "path = '/Users/Nast/Documents/Karpov.Courses/Final_project/test1/Проект_2_group_add.csv' #Specify the path to the file with the update\n",
    "\n",
    "today_date = datetime.today().strftime('%Y-%m-%d') #Define the update date\n",
    "\n",
    "def data_upd(df_to_upd):\n",
    "    df_users_add = pd.read_csv(path, sep = ',', header=0, names = ['student_id', 'group']) #Read the additional file, write the column names we need\n",
    "    df_to_upd = df_to_upd.append(df_users_add) #Add new data to the list of users\n",
    "    df_test = df_act_checks.merge(df_to_upd, how = 'left', on = 'student_id') #Let's add information about which test group the users belong to. Let's leave only those who logged in to the platform.\n",
    "    avg_revenue = df_test.groupby('group', as_index = False).agg({'rev': 'mean'}).rename(columns={'rev': 'avg_rev'}) #Average income in groups\n",
    "    \n",
    "    cr_table = df_test.groupby('group', as_index = False) \\\n",
    "            .agg({'rev': 'count', 'student_id': 'count'}) \\\n",
    "            .rename(columns = {'rev': 'payment_count', 'student_id': 'actives_count'}) #Calculate conversion\n",
    "    cr_table['cr'] = cr_table.payment_count / cr_table.actives_count * 100 #Convert to percentage\n",
    "    cr = cr_table[['group', 'cr']] #Leave only the necessary columns in the table\n",
    "    \n",
    "    final_results = avg_revenue.merge(cr, how = 'inner', on = 'group') #Combine the metrics into a common table\n",
    "    final_results['date'] = today_date #Update the date\n",
    "    \n",
    "    return(final_results)"
   ]
  },
  {
   "cell_type": "code",
   "execution_count": null,
   "id": "d472b91b",
   "metadata": {},
   "outputs": [],
   "source": [
    "df_to_vis = data_upd(df_users) #assign a name to be used in the next task\n",
    "df_to_vis"
   ]
  },
  {
   "cell_type": "markdown",
   "id": "0a16ec10",
   "metadata": {},
   "source": [
    "#### 2. Implement a function that will plot the resulting metrics."
   ]
  },
  {
   "cell_type": "code",
   "execution_count": null,
   "id": "dc566ac4",
   "metadata": {},
   "outputs": [],
   "source": [
    "def data_visual(df_to_vis):\n",
    "    \n",
    "    fig, axes = plt.subplots(1, 2, figsize=(15, 5)) #to fit two different graphs side by side\n",
    "\n",
    "    sns.barplot(ax=axes[0], x=df_to_vis.date, y=df_to_vis.avg_rev, hue=df_to_vis.group)\n",
    "    axes[0].set_title('Average Revenue per user')\n",
    "\n",
    "    sns.barplot(ax=axes[1], x=df_to_vis.date, y=df_to_vis.cr, hue=df_to_vis.group)\n",
    "    axes[1].set_title('Convertion Rate')\n",
    "    \n",
    "    return"
   ]
  },
  {
   "cell_type": "code",
   "execution_count": null,
   "id": "a474e9b6",
   "metadata": {},
   "outputs": [],
   "source": [
    "data_visual(df_to_vis)"
   ]
  }
 ],
 "metadata": {
  "kernelspec": {
   "display_name": "Python 3 (ipykernel)",
   "language": "python",
   "name": "python3"
  },
  "language_info": {
   "codemirror_mode": {
    "name": "ipython",
    "version": 3
   },
   "file_extension": ".py",
   "mimetype": "text/x-python",
   "name": "python",
   "nbconvert_exporter": "python",
   "pygments_lexer": "ipython3",
   "version": "3.11.4"
  }
 },
 "nbformat": 4,
 "nbformat_minor": 5
}
